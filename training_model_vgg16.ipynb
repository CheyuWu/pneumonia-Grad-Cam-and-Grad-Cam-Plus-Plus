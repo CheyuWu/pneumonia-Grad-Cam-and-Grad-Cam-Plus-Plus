{
 "cells": [
  {
   "cell_type": "code",
   "execution_count": null,
   "metadata": {},
   "outputs": [],
   "source": [
    "import cv2\n",
    "import numpy as np\n",
    "import pandas as pd\n",
    "import seaborn as sns\n",
    "import matplotlib.pyplot as plt\n",
    "from keras.preprocessing.image import load_img #import image need this\n",
    "from keras.preprocessing.image import ImageDataGenerator\n",
    "from keras.models import Sequential\n",
    "from keras.layers import Activation, Dropout, Flatten, Dense,Input\n",
    "from keras.layers import Convolution2D, MaxPooling2D, ZeroPadding2D\n",
    "from keras.applications import VGG16\n",
    "from keras.applications import VGG19\n",
    "from keras.applications import ResNet50\n",
    "from keras.applications import MobileNetV2\n",
    "from keras.callbacks import ModelCheckpoint\n",
    "from keras.utils.vis_utils import plot_model\n",
    "from keras.models import Model\n",
    "from keras import optimizers\n",
    "import tensorflow as  tf\n",
    "import keras.backend as K\n",
    "import os\n",
    "import random\n",
    "import scipy\n",
    "from keras.utils import to_categorical\n",
    "from sklearn.metrics import classification_report, confusion_matrix,roc_curve,roc_auc_score,auc\n",
    "from keras.layers.advanced_activations import LeakyReLU\n",
    "from keras.layers.convolutional import Convolution2D, MaxPooling2D, ZeroPadding2D\n",
    "from keras.optimizers import SGD\n",
    "from keras.preprocessing.image import load_img, img_to_array"
   ]
  },
  {
   "cell_type": "code",
   "execution_count": null,
   "metadata": {},
   "outputs": [],
   "source": [
    "os.environ[\"CUDA_VISIBLE_DEVICES\"] = \"1\""
   ]
  },
  {
   "cell_type": "code",
   "execution_count": null,
   "metadata": {},
   "outputs": [],
   "source": [
    "def history_plot(results): \n",
    "    # list all data in history\n",
    "    print(results.history.keys())\n",
    "    # summarize history for accuracy\n",
    "    plt.figure(1)\n",
    "    plt.plot(results.history['acc'])\n",
    "    plt.plot(results.history['val_acc'])\n",
    "    plt.title('model accuracy')\n",
    "    plt.ylabel('accuracy')\n",
    "    plt.xlabel('epoch')\n",
    "    plt.legend(['train', 'validation'], loc='upper left')\n",
    "    plt.savefig('Accuracy',dpi=300)\n",
    "    plt.show()\n",
    "\n",
    "    # summarize history for loss\n",
    "    plt.figure(2)\n",
    "    plt.plot(results.history[\"loss\"], label=\"loss\")\n",
    "    plt.plot(results.history[\"val_loss\"], label=\"val_loss\")\n",
    "    plt.plot(np.argmin(results.history[\"val_loss\"]), \n",
    "             np.min(results.history[\"val_loss\"]), \n",
    "             marker=\"x\", color=\"r\", label=\"best model\")\n",
    "    plt.xlabel(\"Epochs\")\n",
    "    plt.ylabel(\"log_loss\")\n",
    "    plt.legend();\n",
    "    plt.savefig('Loss',dpi=300)\n",
    "    plt.show()"
   ]
  },
  {
   "cell_type": "code",
   "execution_count": null,
   "metadata": {},
   "outputs": [],
   "source": [
    "img_width, img_height = 224 , 224\n",
    "batch_size = 32\n",
    "epochs = 300\n",
    "seed = 42\n",
    "class_mode = 'categorical'\n",
    "date = '2019-06-17_VGG16'"
   ]
  },
  {
   "cell_type": "code",
   "execution_count": null,
   "metadata": {},
   "outputs": [],
   "source": [
    "## Model way transfer learning\n",
    "initial_model =VGG16(include_top=False,weights='imagenet')\n",
    "input = Input(shape=(img_width,img_height,3),name = 'image_input')\n",
    "output_vgg16_conv = initial_model(input)\n",
    "\n",
    "x = Flatten()(output_vgg16_conv)\n",
    "x = Dense(4096, activation='relu', name='fc1')(x)\n",
    "x = Dense(4096, activation='relu', name='fc2')(x)\n",
    "x = Dense(3, activation='softmax', name='predictions')(x)\n",
    "model = Model(input= input ,output = x)"
   ]
  },
  {
   "cell_type": "code",
   "execution_count": null,
   "metadata": {},
   "outputs": [],
   "source": [
    "sgd = SGD(lr=0.1, decay=1e-6, momentum=0.9, nesterov=True)\n",
    "model.compile(optimizer='adam', loss='categorical_crossentropy',metrics=['accuracy'])"
   ]
  },
  {
   "cell_type": "code",
   "execution_count": null,
   "metadata": {},
   "outputs": [],
   "source": [
    "model.summary()"
   ]
  },
  {
   "cell_type": "code",
   "execution_count": null,
   "metadata": {},
   "outputs": [],
   "source": [
    "# 設定checkpoint & callbacks\n",
    "from keras.callbacks import EarlyStopping\n",
    "from keras.callbacks import ReduceLROnPlateau\n",
    "from keras.callbacks import ModelCheckpoint\n",
    "def callbacks(name):\n",
    "    save_dir = \"checkpoint\"\n",
    "    #     tl.files.exists_or_mkdir(save_dir)\n",
    "    path=save_dir+'/model_check_'+name+'.h5'\n",
    "    callbacks = [\n",
    "        EarlyStopping(patience=55, verbose=1),\n",
    "        ReduceLROnPlateau(factor=0.1, patience=10, min_lr=0.000001, verbose=1),\n",
    "        ModelCheckpoint(path, verbose=1, save_best_only=True, save_weights_only=False)\n",
    "#         ModelCheckpoint(path,monitor='val_acc', verbose=1,\n",
    "#                         save_best_only=True, save_weights_only=False)\n",
    "    ]\n",
    "    return callbacks"
   ]
  },
  {
   "cell_type": "code",
   "execution_count": null,
   "metadata": {},
   "outputs": [],
   "source": [
    "train_lung_op_path='./pneu_dataset/train/Lung Opacity/'\n",
    "train_normal_path='./pneu_dataset/train/Normal/'\n",
    "train_not_normal_path='./pneu_dataset/train/Not Normal/'\n",
    "paths = [train_lung_op_path,train_normal_path,train_not_normal_path]\n",
    "# list of each img\n",
    "train_path = []\n",
    "train_label = []\n",
    "# dir \n",
    "# 0 = Lung Opacity\n",
    "# 1 = Normal \n",
    "# 2 = Not Normal\n",
    "for path in paths:\n",
    "    for file in  os.listdir(path):\n",
    "        if path == './pneu_dataset/train/Lung Opacity/':\n",
    "            train_path.append(path+file)\n",
    "            train_label.append(0)\n",
    "        elif path == './pneu_dataset/train/Normal/':\n",
    "            train_path.append(path+file)\n",
    "            train_label.append(1)\n",
    "        elif path == './pneu_dataset/train/Not Normal/':\n",
    "            train_path.append(path+file)\n",
    "            train_label.append(2)\n",
    "        else :\n",
    "            train_label.append(3) # accidient"
   ]
  },
  {
   "cell_type": "code",
   "execution_count": null,
   "metadata": {},
   "outputs": [],
   "source": [
    "valid_lung_op_path='./pneu_dataset/validation/Lung Opacity/'\n",
    "valid_normal_path='./pneu_dataset/validation/Normal/'\n",
    "valid_not_normal_path='./pneu_dataset/validation/Not Normal/'\n",
    "paths = [valid_lung_op_path,valid_normal_path,valid_not_normal_path]\n",
    "# list of each img\n",
    "valid_path = []\n",
    "valid_label=[]\n",
    "# dir \n",
    "for path in paths:\n",
    "    for file in  os.listdir(path):\n",
    "        if path == './pneu_dataset/validation/Lung Opacity/':\n",
    "            valid_path.append(path+file)\n",
    "            valid_label.append(0)\n",
    "        elif path == './pneu_dataset/validation/Normal/':\n",
    "            valid_path.append(path+file)\n",
    "            valid_label.append(1)\n",
    "        elif path == './pneu_dataset/validation/Not Normal/':\n",
    "            valid_path.append(path+file)\n",
    "            valid_label.append(2)\n",
    "        else :\n",
    "            valid_label.append(3)"
   ]
  },
  {
   "cell_type": "code",
   "execution_count": null,
   "metadata": {},
   "outputs": [],
   "source": [
    "# path_img = train_path+valid_path\n",
    "# label = train_label+valid_label"
   ]
  },
  {
   "cell_type": "code",
   "execution_count": null,
   "metadata": {},
   "outputs": [],
   "source": [
    "# load image (train)\n",
    "train_data = []\n",
    "count=0\n",
    "for path in train_path : \n",
    "    img=load_img(path,target_size = (img_width, img_height))\n",
    "    img_array = img_to_array(img)\n",
    "    train_data.append(img_array)\n",
    "    "
   ]
  },
  {
   "cell_type": "code",
   "execution_count": null,
   "metadata": {},
   "outputs": [],
   "source": [
    "# load image (validation)\n",
    "valid_data = []\n",
    "count=0\n",
    "for path in valid_path : \n",
    "    img=load_img(path,target_size = (img_width, img_height))\n",
    "    img_array = img_to_array(img)\n",
    "    valid_data.append(img_array)\n"
   ]
  },
  {
   "cell_type": "code",
   "execution_count": null,
   "metadata": {},
   "outputs": [],
   "source": [
    "# To array\n",
    "train = np.asarray(train_data)\n",
    "valid = np.asarray(valid_data)\n",
    "t_label = to_categorical(np.asarray(train_label), 3) # separate to 3 class\n",
    "v_label = to_categorical(np.asarray(valid_label), 3) # separate to 3 class"
   ]
  },
  {
   "cell_type": "code",
   "execution_count": null,
   "metadata": {},
   "outputs": [],
   "source": [
    "# preprocessing \n",
    "train = train.astype('float32')/255.0\n",
    "valid = valid.astype('float32')/255.0"
   ]
  },
  {
   "cell_type": "code",
   "execution_count": null,
   "metadata": {},
   "outputs": [],
   "source": [
    "history=model.fit(x=train,y=t_label,validation_split=0.2,\n",
    "                  epochs=epochs,batch_size=batch_size,verbose=1)"
   ]
  },
  {
   "cell_type": "code",
   "execution_count": null,
   "metadata": {},
   "outputs": [],
   "source": [
    "history_plot(history)"
   ]
  },
  {
   "cell_type": "code",
   "execution_count": null,
   "metadata": {},
   "outputs": [],
   "source": [
    "scores=model.evaluate(valid,v_label)\n",
    "print()\n",
    "print(scores)"
   ]
  },
  {
   "cell_type": "code",
   "execution_count": null,
   "metadata": {},
   "outputs": [],
   "source": []
  },
  {
   "cell_type": "code",
   "execution_count": null,
   "metadata": {},
   "outputs": [],
   "source": []
  }
 ],
 "metadata": {
  "kernelspec": {
   "display_name": "Python 3",
   "language": "python",
   "name": "python3"
  },
  "language_info": {
   "codemirror_mode": {
    "name": "ipython",
    "version": 3
   },
   "file_extension": ".py",
   "mimetype": "text/x-python",
   "name": "python",
   "nbconvert_exporter": "python",
   "pygments_lexer": "ipython3",
   "version": "3.6.8"
  }
 },
 "nbformat": 4,
 "nbformat_minor": 2
}
